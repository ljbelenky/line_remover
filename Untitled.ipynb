{
 "cells": [
  {
   "cell_type": "code",
   "execution_count": 2,
   "metadata": {},
   "outputs": [],
   "source": [
    "import tensorflow as tf"
   ]
  },
  {
   "cell_type": "code",
   "execution_count": 3,
   "metadata": {},
   "outputs": [],
   "source": [
    "from tensorflow.keras.preprocessing.image import ImageDataGenerator"
   ]
  },
  {
   "cell_type": "code",
   "execution_count": 5,
   "metadata": {},
   "outputs": [],
   "source": [
    "img_gen = ImageDataGenerator(rescale=1./255, rotation_range=10)"
   ]
  },
  {
   "cell_type": "code",
   "execution_count": 16,
   "metadata": {},
   "outputs": [
    {
     "name": "stdout",
     "output_type": "stream",
     "text": [
      "Found 3369 images belonging to 3 classes.\n"
     ]
    }
   ],
   "source": [
    "i, l = next(img_gen.flow_from_directory(\"data/grayscale_images/\"))"
   ]
  },
  {
   "cell_type": "code",
   "execution_count": 19,
   "metadata": {},
   "outputs": [
    {
     "data": {
      "text/plain": [
       "(numpy.ndarray, (32, 256, 256, 3))"
      ]
     },
     "execution_count": 19,
     "metadata": {},
     "output_type": "execute_result"
    }
   ],
   "source": [
    "type(i), i.shape"
   ]
  },
  {
   "cell_type": "code",
   "execution_count": 22,
   "metadata": {},
   "outputs": [
    {
     "data": {
      "text/plain": [
       "(numpy.ndarray,\n",
       " (32, 3),\n",
       " array([[1., 0., 0.],\n",
       "        [1., 0., 0.],\n",
       "        [0., 1., 0.],\n",
       "        [1., 0., 0.],\n",
       "        [0., 1., 0.],\n",
       "        [1., 0., 0.],\n",
       "        [1., 0., 0.],\n",
       "        [0., 0., 1.],\n",
       "        [1., 0., 0.],\n",
       "        [0., 0., 1.],\n",
       "        [0., 0., 1.],\n",
       "        [1., 0., 0.],\n",
       "        [1., 0., 0.],\n",
       "        [1., 0., 0.],\n",
       "        [0., 0., 1.],\n",
       "        [0., 1., 0.],\n",
       "        [1., 0., 0.],\n",
       "        [1., 0., 0.],\n",
       "        [0., 0., 1.],\n",
       "        [0., 0., 1.],\n",
       "        [1., 0., 0.],\n",
       "        [1., 0., 0.],\n",
       "        [1., 0., 0.],\n",
       "        [0., 0., 1.],\n",
       "        [1., 0., 0.],\n",
       "        [0., 0., 1.],\n",
       "        [0., 0., 1.],\n",
       "        [1., 0., 0.],\n",
       "        [0., 0., 1.],\n",
       "        [0., 1., 0.],\n",
       "        [0., 1., 0.],\n",
       "        [0., 1., 0.]], dtype=float32))"
      ]
     },
     "execution_count": 22,
     "metadata": {},
     "output_type": "execute_result"
    }
   ],
   "source": [
    "type(l), l.shape, l"
   ]
  },
  {
   "cell_type": "code",
   "execution_count": 176,
   "metadata": {},
   "outputs": [],
   "source": [
    "import numpy as np\n",
    "import os\n",
    "import PIL\n",
    "from PIL import Image\n",
    "\n",
    "class SketchDataGenerator:\n",
    "    '''SketchDataGenerator yields pairs of sketches with/without ruled lines and image augmentation'''\n",
    "\n",
    "    def __init__(self, \n",
    "                 flip_horizontal=True, \n",
    "                 flip_vertical=True, \n",
    "                 h_shift=0, \n",
    "                 v_shift=0, \n",
    "                 rotate=0, \n",
    "                 dilate=0, \n",
    "                 contrast=0,\n",
    "                 size = (200,200)):\n",
    "        \n",
    "        self.flip_horizontal = flip_horizontal\n",
    "        self.flip_vertical = flip_vertical\n",
    "        self.h_shift = h_shift\n",
    "        self.v_shift = v_shift\n",
    "        self.rotate = rotate\n",
    "        self.dilate = dilate\n",
    "        self.contrast = contrast\n",
    "        self.size = size\n",
    "\n",
    "    def flow_from_directory(self, directory, batch_size=32):\n",
    "        '''Provides an infinite stream of augmented files'''\n",
    "\n",
    "        while True:\n",
    "            filenames = np.random.choice(os.listdir(directory),\n",
    "                                         size=batch_size,\n",
    "                                         replace=False)\n",
    "\n",
    "            input = self._get_inputs(directory,filenames)\n",
    "\n",
    "            yield input\n",
    "            \n",
    "    def _get_inputs(self, directory, filenames):\n",
    "        join = np.vectorize(lambda x:os.path.join(directory, x))\n",
    "        files = join(filenames)\n",
    "        \n",
    "        images = [Image.open(x) for x in files]\n",
    "    \n",
    "        images = [i.convert(mode = 'RGB') for i in images]\n",
    "        images = [i.resize(self.size) for i in images]\n",
    "        targets = np.stack(images)\n",
    "        \n",
    "        \n",
    "        \n",
    "        return images, targets\n",
    "        "
   ]
  },
  {
   "cell_type": "code",
   "execution_count": 177,
   "metadata": {},
   "outputs": [],
   "source": [
    "sdg = SketchDataGenerator()\n",
    "flow = sdg.flow_from_directory('data/Sketches/Unruled', 4)"
   ]
  },
  {
   "cell_type": "code",
   "execution_count": 178,
   "metadata": {},
   "outputs": [
    {
     "data": {
      "text/plain": [
       "([<PIL.Image.Image image mode=RGB size=200x200 at 0x7FE8D8272890>,\n",
       "  <PIL.Image.Image image mode=RGB size=200x200 at 0x7FE8D835A750>,\n",
       "  <PIL.Image.Image image mode=RGB size=200x200 at 0x7FE8D829C3D0>,\n",
       "  <PIL.Image.Image image mode=RGB size=200x200 at 0x7FE8D829CE10>],\n",
       " array([[[[250, 250, 250],\n",
       "          [250, 250, 250],\n",
       "          [249, 249, 249],\n",
       "          ...,\n",
       "          [250, 250, 250],\n",
       "          [250, 250, 250],\n",
       "          [249, 249, 249]],\n",
       " \n",
       "         [[250, 250, 250],\n",
       "          [249, 249, 249],\n",
       "          [250, 250, 250],\n",
       "          ...,\n",
       "          [250, 250, 250],\n",
       "          [250, 250, 250],\n",
       "          [249, 249, 249]],\n",
       " \n",
       "         [[250, 250, 250],\n",
       "          [250, 250, 250],\n",
       "          [250, 250, 250],\n",
       "          ...,\n",
       "          [250, 250, 250],\n",
       "          [249, 249, 249],\n",
       "          [249, 249, 249]],\n",
       " \n",
       "         ...,\n",
       " \n",
       "         [[250, 250, 250],\n",
       "          [250, 250, 250],\n",
       "          [249, 249, 249],\n",
       "          ...,\n",
       "          [249, 249, 249],\n",
       "          [249, 249, 249],\n",
       "          [249, 249, 249]],\n",
       " \n",
       "         [[250, 250, 250],\n",
       "          [250, 250, 250],\n",
       "          [250, 250, 250],\n",
       "          ...,\n",
       "          [250, 250, 250],\n",
       "          [249, 249, 249],\n",
       "          [249, 249, 249]],\n",
       " \n",
       "         [[250, 250, 250],\n",
       "          [249, 249, 249],\n",
       "          [250, 250, 250],\n",
       "          ...,\n",
       "          [248, 248, 248],\n",
       "          [248, 248, 248],\n",
       "          [250, 250, 250]]],\n",
       " \n",
       " \n",
       "        [[[159, 159, 159],\n",
       "          [184, 184, 184],\n",
       "          [182, 182, 182],\n",
       "          ...,\n",
       "          [178, 178, 178],\n",
       "          [181, 181, 181],\n",
       "          [187, 187, 187]],\n",
       " \n",
       "         [[187, 187, 187],\n",
       "          [188, 188, 188],\n",
       "          [188, 188, 188],\n",
       "          ...,\n",
       "          [189, 189, 189],\n",
       "          [184, 184, 184],\n",
       "          [234, 234, 234]],\n",
       " \n",
       "         [[188, 188, 188],\n",
       "          [188, 188, 188],\n",
       "          [187, 187, 187],\n",
       "          ...,\n",
       "          [189, 189, 189],\n",
       "          [191, 191, 191],\n",
       "          [235, 235, 235]],\n",
       " \n",
       "         ...,\n",
       " \n",
       "         [[185, 185, 185],\n",
       "          [188, 188, 188],\n",
       "          [189, 189, 189],\n",
       "          ...,\n",
       "          [251, 251, 251],\n",
       "          [250, 250, 250],\n",
       "          [248, 248, 248]],\n",
       " \n",
       "         [[176, 176, 176],\n",
       "          [186, 186, 186],\n",
       "          [190, 190, 190],\n",
       "          ...,\n",
       "          [250, 250, 250],\n",
       "          [250, 250, 250],\n",
       "          [249, 249, 249]],\n",
       " \n",
       "         [[194, 194, 194],\n",
       "          [211, 211, 211],\n",
       "          [202, 202, 202],\n",
       "          ...,\n",
       "          [251, 251, 251],\n",
       "          [250, 250, 250],\n",
       "          [248, 248, 248]]],\n",
       " \n",
       " \n",
       "        [[[ 81,  82,  84],\n",
       "          [196, 196, 197],\n",
       "          [237, 238, 239],\n",
       "          ...,\n",
       "          [253, 253, 251],\n",
       "          [253, 253, 251],\n",
       "          [253, 253, 251]],\n",
       " \n",
       "         [[218, 214, 209],\n",
       "          [243, 240, 231],\n",
       "          [244, 240, 234],\n",
       "          ...,\n",
       "          [251, 251, 250],\n",
       "          [252, 252, 250],\n",
       "          [252, 252, 250]],\n",
       " \n",
       "         [[239, 226, 206],\n",
       "          [240, 224, 201],\n",
       "          [241, 228, 206],\n",
       "          ...,\n",
       "          [235, 223, 204],\n",
       "          [236, 224, 205],\n",
       "          [236, 223, 205]],\n",
       " \n",
       "         ...,\n",
       " \n",
       "         [[249, 246, 233],\n",
       "          [250, 247, 231],\n",
       "          [251, 248, 233],\n",
       "          ...,\n",
       "          [249, 243, 220],\n",
       "          [248, 242, 219],\n",
       "          [248, 242, 220]],\n",
       " \n",
       "         [[249, 246, 234],\n",
       "          [251, 248, 233],\n",
       "          [251, 249, 235],\n",
       "          ...,\n",
       "          [249, 243, 219],\n",
       "          [249, 243, 220],\n",
       "          [249, 244, 222]],\n",
       " \n",
       "         [[248, 244, 230],\n",
       "          [250, 247, 231],\n",
       "          [251, 248, 233],\n",
       "          ...,\n",
       "          [248, 243, 219],\n",
       "          [249, 243, 221],\n",
       "          [249, 243, 220]]],\n",
       " \n",
       " \n",
       "        [[[248, 248, 248],\n",
       "          [248, 248, 248],\n",
       "          [248, 248, 248],\n",
       "          ...,\n",
       "          [248, 248, 248],\n",
       "          [248, 248, 248],\n",
       "          [248, 248, 248]],\n",
       " \n",
       "         [[248, 248, 248],\n",
       "          [248, 248, 248],\n",
       "          [248, 248, 248],\n",
       "          ...,\n",
       "          [249, 249, 249],\n",
       "          [249, 249, 249],\n",
       "          [248, 248, 248]],\n",
       " \n",
       "         [[248, 248, 248],\n",
       "          [248, 248, 248],\n",
       "          [248, 248, 248],\n",
       "          ...,\n",
       "          [248, 248, 248],\n",
       "          [248, 248, 248],\n",
       "          [248, 248, 248]],\n",
       " \n",
       "         ...,\n",
       " \n",
       "         [[250, 250, 250],\n",
       "          [250, 250, 250],\n",
       "          [249, 249, 249],\n",
       "          ...,\n",
       "          [249, 249, 249],\n",
       "          [249, 249, 249],\n",
       "          [249, 249, 249]],\n",
       " \n",
       "         [[249, 249, 249],\n",
       "          [249, 249, 249],\n",
       "          [250, 250, 250],\n",
       "          ...,\n",
       "          [248, 248, 248],\n",
       "          [249, 249, 249],\n",
       "          [249, 249, 249]],\n",
       " \n",
       "         [[249, 249, 249],\n",
       "          [249, 249, 249],\n",
       "          [250, 250, 250],\n",
       "          ...,\n",
       "          [248, 248, 248],\n",
       "          [249, 249, 249],\n",
       "          [248, 248, 248]]]], dtype=uint8))"
      ]
     },
     "execution_count": 178,
     "metadata": {},
     "output_type": "execute_result"
    }
   ],
   "source": [
    "next(flow)"
   ]
  },
  {
   "cell_type": "code",
   "execution_count": null,
   "metadata": {},
   "outputs": [],
   "source": [
    "import matplotlib.pyplot as plt\n",
    "plt.imshow(next(flow)[0])"
   ]
  },
  {
   "cell_type": "code",
   "execution_count": 166,
   "metadata": {},
   "outputs": [],
   "source": [
    "import PIL"
   ]
  },
  {
   "cell_type": "code",
   "execution_count": 115,
   "metadata": {},
   "outputs": [
    {
     "data": {
      "text/plain": [
       "'7.0.0'"
      ]
     },
     "execution_count": 115,
     "metadata": {},
     "output_type": "execute_result"
    }
   ],
   "source": [
    "PIL.__version__"
   ]
  },
  {
   "cell_type": "code",
   "execution_count": null,
   "metadata": {},
   "outputs": [],
   "source": []
  }
 ],
 "metadata": {
  "kernelspec": {
   "display_name": "Python 3",
   "language": "python",
   "name": "python3"
  },
  "language_info": {
   "codemirror_mode": {
    "name": "ipython",
    "version": 3
   },
   "file_extension": ".py",
   "mimetype": "text/x-python",
   "name": "python",
   "nbconvert_exporter": "python",
   "pygments_lexer": "ipython3",
   "version": "3.7.6"
  }
 },
 "nbformat": 4,
 "nbformat_minor": 4
}
