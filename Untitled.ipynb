{
 "cells": [
  {
   "cell_type": "code",
   "execution_count": 1,
   "metadata": {},
   "outputs": [],
   "source": [
    "import tensorflow as tf\n",
    "import matplotlib.pyplot as plt\n",
    "import PIL\n",
    "from PIL import Image, ImageOps\n"
   ]
  },
  {
   "cell_type": "code",
   "execution_count": 2,
   "metadata": {},
   "outputs": [],
   "source": [
    "from tensorflow.keras.preprocessing.image import ImageDataGenerator"
   ]
  },
  {
   "cell_type": "code",
   "execution_count": 3,
   "metadata": {},
   "outputs": [],
   "source": [
    "img_gen = ImageDataGenerator(rescale=1./255, rotation_range=10)"
   ]
  },
  {
   "cell_type": "code",
   "execution_count": 4,
   "metadata": {},
   "outputs": [
    {
     "name": "stdout",
     "output_type": "stream",
     "text": [
      "Found 3369 images belonging to 3 classes.\n"
     ]
    }
   ],
   "source": [
    "i, l = next(img_gen.flow_from_directory(\"data/grayscale_images/\"))"
   ]
  },
  {
   "cell_type": "code",
   "execution_count": 5,
   "metadata": {},
   "outputs": [
    {
     "data": {
      "text/plain": [
       "(numpy.ndarray, (32, 256, 256, 3))"
      ]
     },
     "execution_count": 5,
     "metadata": {},
     "output_type": "execute_result"
    }
   ],
   "source": [
    "type(i), i.shape"
   ]
  },
  {
   "cell_type": "code",
   "execution_count": 6,
   "metadata": {},
   "outputs": [
    {
     "data": {
      "text/plain": [
       "(numpy.ndarray,\n",
       " (32, 3),\n",
       " array([[1., 0., 0.],\n",
       "        [0., 1., 0.],\n",
       "        [0., 0., 1.],\n",
       "        [0., 0., 1.],\n",
       "        [1., 0., 0.],\n",
       "        [1., 0., 0.],\n",
       "        [1., 0., 0.],\n",
       "        [1., 0., 0.],\n",
       "        [1., 0., 0.],\n",
       "        [1., 0., 0.],\n",
       "        [1., 0., 0.],\n",
       "        [0., 0., 1.],\n",
       "        [1., 0., 0.],\n",
       "        [1., 0., 0.],\n",
       "        [0., 1., 0.],\n",
       "        [1., 0., 0.],\n",
       "        [1., 0., 0.],\n",
       "        [0., 1., 0.],\n",
       "        [0., 1., 0.],\n",
       "        [0., 0., 1.],\n",
       "        [0., 1., 0.],\n",
       "        [1., 0., 0.],\n",
       "        [0., 0., 1.],\n",
       "        [0., 1., 0.],\n",
       "        [0., 1., 0.],\n",
       "        [1., 0., 0.],\n",
       "        [0., 0., 1.],\n",
       "        [0., 1., 0.],\n",
       "        [0., 0., 1.],\n",
       "        [0., 0., 1.],\n",
       "        [0., 0., 1.],\n",
       "        [0., 1., 0.]], dtype=float32))"
      ]
     },
     "execution_count": 6,
     "metadata": {},
     "output_type": "execute_result"
    }
   ],
   "source": [
    "type(l), l.shape, l"
   ]
  },
  {
   "cell_type": "code",
   "execution_count": 19,
   "metadata": {},
   "outputs": [],
   "source": [
    "class RulerGenerator:\n",
    "    def __init__(self, shape, line_width, spacing, v_offset, raggedness, color, color_variation, angle):\n",
    "        assert 0 <= raggedness <= 1\n",
    "        assert 0 <= color <= 255\n",
    "        assert 0 <= color_variation <= 255\n",
    "        assert -180 <= angle <= 180\n",
    "        assert 0 <= v_offset <= 1\n",
    "\n",
    "        w, h = shape\n",
    "\n",
    "        basis = np.array([0]*spacing + [1]*line_width).astype('uint8')\n",
    "        column = np.tile(basis, 1+int(2*h/len(basis)))[0:2*h]\n",
    "        lines_array = np.tile(column, 2*w).reshape(2*w, 2*h).T\n",
    "\n",
    "        color_array = np.random.normal(\n",
    "            size=(2*h, 2*w))*color_variation + color - color_variation/2\n",
    "        color_array = color_array.astype('uint8')\n",
    "\n",
    "        ragged_array = 1*(np.random.random(size=(2*h, 2*w))\n",
    "                          > raggedness).astype('uint8')\n",
    "\n",
    "        lines_array *= color_array\n",
    "        lines_array *= ragged_array\n",
    "        alpha = (lines_array !=0) * 200\n",
    "        l = 255 - lines_array\n",
    "        \n",
    "        RGBA_array = np.stack([l,l,l,alpha], axis =2)\n",
    "        image = Image.fromarray(RGBA_array, mode = 'RGBA')\n",
    "        \n",
    "        image = image.rotate(angle)\n",
    "\n",
    "        left = int(w/2)\n",
    "        right = left + w\n",
    "        top = int(h/2 + v_offset*len(basis))\n",
    "        bottom = top + h\n",
    "\n",
    "        self.image = image.crop((left, top, right, bottom))\n",
    "\n",
    "    @property\n",
    "    def asarray(self):\n",
    "        return np.asarray(self.image)"
   ]
  },
  {
   "cell_type": "code",
   "execution_count": 20,
   "metadata": {},
   "outputs": [],
   "source": [
    "import numpy as np\n",
    "import os\n",
    "import PIL\n",
    "from PIL import Image\n",
    "\n",
    "class SketchDataGenerator:\n",
    "    '''SketchDataGenerator yields pairs of sketches with/without ruled lines and image augmentation'''\n",
    "\n",
    "    def __init__(self, \n",
    "                 flip_horizontal=True, \n",
    "                 flip_vertical=True, \n",
    "                 h_shift=0, \n",
    "                 v_shift=0, \n",
    "                 rotate=10, \n",
    "                 dilate=0, \n",
    "                 contrast=0,\n",
    "                 size = (200,200)):\n",
    "        \n",
    "        self.flip_horizontal = flip_horizontal\n",
    "        self.flip_vertical = flip_vertical\n",
    "        self.h_shift = h_shift\n",
    "        self.v_shift = v_shift\n",
    "        self.rotate = rotate\n",
    "        self.dilate = dilate\n",
    "        self.contrast = contrast\n",
    "        self.size = size\n",
    "\n",
    "    def flow_from_directory(self, directory, batch_size=32):\n",
    "        '''Provides an infinite stream of augmented files'''\n",
    "\n",
    "        while True:\n",
    "            filenames = np.random.choice(os.listdir(directory),\n",
    "                                         size=batch_size,\n",
    "                                         replace=False)\n",
    "\n",
    "            input = self._get_inputs(directory,filenames)\n",
    "\n",
    "            yield input\n",
    "            \n",
    "    def _get_inputs(self, directory, filenames):\n",
    "        join = np.vectorize(lambda x:os.path.join(directory, x))\n",
    "        files = join(filenames)\n",
    "        \n",
    "        images = [Image.open(x).convert(mode = 'RGBA').resize(self.size) for x in files]\n",
    "           \n",
    "        images = self._augment(images)\n",
    "        \n",
    "        lined_images = self._add_lines(images)\n",
    "        unlined_images = np.stack(images)\n",
    "        \n",
    "        return lined_images, unlined_images\n",
    "    \n",
    "    def _augment(self, images):\n",
    "        for transformation in [self._hflip, \n",
    "                               self._vflip, \n",
    "                               self._hshift, \n",
    "                               self._vshift, \n",
    "                               self._rotate, \n",
    "                               self._dilate, \n",
    "                               self._contrast]:\n",
    "            images = [transformation(i) for i in images]\n",
    "            \n",
    "        return images\n",
    "    \n",
    "    def _hflip(self, image):\n",
    "        if self.flip_horizontal and np.random.random()>.5:\n",
    "            image = ImageOps.mirror(image)\n",
    "        return image\n",
    "    \n",
    "    def _vflip(self, image):\n",
    "        if self.flip_vertical and np.random.random()>.5:\n",
    "            image = ImageOps.flip(image)\n",
    "        return image\n",
    "    \n",
    "    def _hshift(self, image):\n",
    "        return image\n",
    "    \n",
    "    def _vshift(self, image):\n",
    "        return image\n",
    "    \n",
    "    def _rotate(self, image):        \n",
    "#         return image.rotate((np.random.random()-.5)*2*self.rotate)\n",
    "        return image\n",
    "    \n",
    "    def _dilate(self, image):\n",
    "        return image\n",
    "    \n",
    "    def _contrast(self, image):\n",
    "        return image\n",
    "    \n",
    "    def _add_lines(self, images):\n",
    "        results = []\n",
    "        \n",
    "        for i in images:\n",
    "            kwargs = {'shape': i.size,\n",
    "                     'line_width': np.random.randint(1,4),\n",
    "                      'spacing': 20 + np.random.randint(0,11),\n",
    "                      'v_offset': np.random.random(),\n",
    "                      'raggedness': .5 + np.random.random()/2,\n",
    "                      'color': np.random.randint(100, 150),\n",
    "                      'color_variation': np.random.randint(15, 30),\n",
    "                      'angle': np.random.randint(-10, 11)                      \n",
    "                     }\n",
    "            rg = RulerGenerator(**kwargs)\n",
    "            results.append(rg.image)\n",
    "        \n",
    "        return images, results\n",
    "        "
   ]
  },
  {
   "cell_type": "code",
   "execution_count": 21,
   "metadata": {},
   "outputs": [],
   "source": [
    "sdg = SketchDataGenerator()\n",
    "flow = sdg.flow_from_directory('data/Sketches/Unruled', 4)"
   ]
  },
  {
   "cell_type": "code",
   "execution_count": 22,
   "metadata": {},
   "outputs": [
    {
     "data": {
      "text/plain": [
       "(list, numpy.ndarray)"
      ]
     },
     "execution_count": 22,
     "metadata": {},
     "output_type": "execute_result"
    }
   ],
   "source": [
    "lined, unlined = next(flow)\n",
    "type(lined[0]), type(unlined)"
   ]
  },
  {
   "cell_type": "code",
   "execution_count": 23,
   "metadata": {},
   "outputs": [
    {
     "data": {
      "text/plain": [
       "PIL.Image.Image"
      ]
     },
     "execution_count": 23,
     "metadata": {},
     "output_type": "execute_result"
    }
   ],
   "source": [
    "type(lined[1][0])"
   ]
  },
  {
   "cell_type": "code",
   "execution_count": 24,
   "metadata": {},
   "outputs": [],
   "source": [
    "l = lined[1][0]\n",
    "u = unlined[0]"
   ]
  },
  {
   "cell_type": "code",
   "execution_count": 25,
   "metadata": {},
   "outputs": [
    {
     "data": {
      "image/png": "[encoded data removed]",
      "text/plain": [
       "<PIL.Image.Image image mode=RGBA size=200x200 at 0x7F2811850B90>"
      ]
     },
     "execution_count": 25,
     "metadata": {},
     "output_type": "execute_result"
    }
   ],
   "source": [
    "l"
   ]
  },
  {
   "cell_type": "code",
   "execution_count": 30,
   "metadata": {},
   "outputs": [
    {
     "data": {
      "text/plain": [
       "<matplotlib.image.AxesImage at 0x7f28708b71d0>"
      ]
     },
     "execution_count": 30,
     "metadata": {},
     "output_type": "execute_result"
    },
    {
     "data": {
      "image/png": "[encoded data removed]",
      "text/plain": [
       "<Figure size 432x288 with 1 Axes>"
      ]
     },
     "metadata": {
      "needs_background": "light"
     },
     "output_type": "display_data"
    }
   ],
   "source": [
    "plt.imshow(np.array(l)[:,:,1])"
   ]
  },
  {
   "cell_type": "code",
   "execution_count": 15,
   "metadata": {},
   "outputs": [
    {
     "ename": "ValueError",
     "evalue": "images do not match",
     "output_type": "error",
     "traceback": [
      "\u001b[0;31m---------------------------------------------------------------------------\u001b[0m",
      "\u001b[0;31mValueError\u001b[0m                                Traceback (most recent call last)",
      "\u001b[0;32m<ipython-input-15-da1bd8942742>\u001b[0m in \u001b[0;36m<module>\u001b[0;34m\u001b[0m\n\u001b[1;32m      1\u001b[0m \u001b[0muu\u001b[0m \u001b[0;34m=\u001b[0m \u001b[0mImage\u001b[0m\u001b[0;34m.\u001b[0m\u001b[0mfromarray\u001b[0m\u001b[0;34m(\u001b[0m\u001b[0mu\u001b[0m\u001b[0;34m)\u001b[0m\u001b[0;34m\u001b[0m\u001b[0;34m\u001b[0m\u001b[0m\n\u001b[0;32m----> 2\u001b[0;31m \u001b[0mImage\u001b[0m\u001b[0;34m.\u001b[0m\u001b[0mblend\u001b[0m\u001b[0;34m(\u001b[0m\u001b[0muu\u001b[0m\u001b[0;34m,\u001b[0m\u001b[0ml\u001b[0m\u001b[0;34m.\u001b[0m\u001b[0mconvert\u001b[0m\u001b[0;34m(\u001b[0m\u001b[0mmode\u001b[0m \u001b[0;34m=\u001b[0m \u001b[0;34m'RGB'\u001b[0m\u001b[0;34m)\u001b[0m\u001b[0;34m,\u001b[0m \u001b[0;36m.5\u001b[0m\u001b[0;34m)\u001b[0m\u001b[0;34m\u001b[0m\u001b[0;34m\u001b[0m\u001b[0m\n\u001b[0m",
      "\u001b[0;32m~/anaconda3/lib/python3.7/site-packages/PIL/Image.py\u001b[0m in \u001b[0;36mblend\u001b[0;34m(im1, im2, alpha)\u001b[0m\n\u001b[1;32m   2903\u001b[0m     \u001b[0mim1\u001b[0m\u001b[0;34m.\u001b[0m\u001b[0mload\u001b[0m\u001b[0;34m(\u001b[0m\u001b[0;34m)\u001b[0m\u001b[0;34m\u001b[0m\u001b[0;34m\u001b[0m\u001b[0m\n\u001b[1;32m   2904\u001b[0m     \u001b[0mim2\u001b[0m\u001b[0;34m.\u001b[0m\u001b[0mload\u001b[0m\u001b[0;34m(\u001b[0m\u001b[0;34m)\u001b[0m\u001b[0;34m\u001b[0m\u001b[0;34m\u001b[0m\u001b[0m\n\u001b[0;32m-> 2905\u001b[0;31m     \u001b[0;32mreturn\u001b[0m \u001b[0mim1\u001b[0m\u001b[0;34m.\u001b[0m\u001b[0m_new\u001b[0m\u001b[0;34m(\u001b[0m\u001b[0mcore\u001b[0m\u001b[0;34m.\u001b[0m\u001b[0mblend\u001b[0m\u001b[0;34m(\u001b[0m\u001b[0mim1\u001b[0m\u001b[0;34m.\u001b[0m\u001b[0mim\u001b[0m\u001b[0;34m,\u001b[0m \u001b[0mim2\u001b[0m\u001b[0;34m.\u001b[0m\u001b[0mim\u001b[0m\u001b[0;34m,\u001b[0m \u001b[0malpha\u001b[0m\u001b[0;34m)\u001b[0m\u001b[0;34m)\u001b[0m\u001b[0;34m\u001b[0m\u001b[0;34m\u001b[0m\u001b[0m\n\u001b[0m\u001b[1;32m   2906\u001b[0m \u001b[0;34m\u001b[0m\u001b[0m\n\u001b[1;32m   2907\u001b[0m \u001b[0;34m\u001b[0m\u001b[0m\n",
      "\u001b[0;31mValueError\u001b[0m: images do not match"
     ]
    }
   ],
   "source": [
    "uu = Image.fromarray(u)\n",
    "Image.blend(uu,l.convert(mode = 'RGB'), .5)"
   ]
  },
  {
   "cell_type": "code",
   "execution_count": null,
   "metadata": {},
   "outputs": [],
   "source": [
    "uu"
   ]
  },
  {
   "cell_type": "code",
   "execution_count": null,
   "metadata": {},
   "outputs": [],
   "source": [
    "\n",
    "# fig, axs = plt.subplots(1,2)\n",
    "# axs[0].imshow(lined[0])\n",
    "# axs[1].imshow(unlined[0]);"
   ]
  },
  {
   "cell_type": "code",
   "execution_count": null,
   "metadata": {},
   "outputs": [],
   "source": [
    "from PIL import ImageOps"
   ]
  },
  {
   "cell_type": "code",
   "execution_count": null,
   "metadata": {},
   "outputs": [],
   "source": [
    "i = Image.open('data/Sketches/Unruled/IMG_0037.jpg')"
   ]
  },
  {
   "cell_type": "code",
   "execution_count": null,
   "metadata": {},
   "outputs": [],
   "source": [
    "i.size"
   ]
  },
  {
   "cell_type": "code",
   "execution_count": null,
   "metadata": {},
   "outputs": [],
   "source": [
    "shape = 200, 200\n",
    "spacing = 25\n",
    "line_width = 3\n",
    "color_variation = 10\n",
    "color = 128\n",
    "raggedness = .5"
   ]
  },
  {
   "cell_type": "code",
   "execution_count": null,
   "metadata": {},
   "outputs": [],
   "source": [
    "w, h = shape\n",
    "\n",
    "basis = np.array([0]*spacing + [1]*line_width).astype('uint8')\n",
    "column = np.tile(basis, 1+int(2*h/len(basis)))[0:2*h]\n",
    "lines_array = np.tile(column, 2*w).reshape(2*w, 2*h).T\n",
    "\n",
    "color_array = np.random.normal(\n",
    "    size=(2*h, 2*w))*color_variation + color - color_variation/2\n",
    "color_array = color_array.astype('uint8')\n",
    "\n",
    "ragged_array = 1*(np.random.random(size=(2*h, 2*w))\n",
    "                  > raggedness).astype('uint8')\n",
    "\n",
    "lines_array *= color_array\n",
    "lines_array *= ragged_array\n",
    "alpha = lines_array\n",
    "l = 255 - lines_array"
   ]
  },
  {
   "cell_type": "code",
   "execution_count": null,
   "metadata": {},
   "outputs": [],
   "source": [
    "i = Image.fromarray(np.stack([l,l,l,alpha], axis = 2), mode = 'RGBA')\n",
    "i.show()"
   ]
  },
  {
   "cell_type": "code",
   "execution_count": null,
   "metadata": {},
   "outputs": [],
   "source": [
    "plt.imshow(l)"
   ]
  },
  {
   "cell_type": "code",
   "execution_count": null,
   "metadata": {},
   "outputs": [],
   "source": []
  }
 ],
 "metadata": {
  "kernelspec": {
   "display_name": "Python 3",
   "language": "python",
   "name": "python3"
  },
  "language_info": {
   "codemirror_mode": {
    "name": "ipython",
    "version": 3
   },
   "file_extension": ".py",
   "mimetype": "text/x-python",
   "name": "python",
   "nbconvert_exporter": "python",
   "pygments_lexer": "ipython3",
   "version": "3.7.6"
  }
 },
 "nbformat": 4,
 "nbformat_minor": 4
}
