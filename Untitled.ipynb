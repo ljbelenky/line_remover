{
 "cells": [
  {
   "cell_type": "code",
   "execution_count": 1,
   "metadata": {},
   "outputs": [],
   "source": [
    "import tensorflow as tf\n",
    "import matplotlib.pyplot as plt\n",
    "import PIL\n",
    "from PIL import Image"
   ]
  },
  {
   "cell_type": "code",
   "execution_count": 2,
   "metadata": {},
   "outputs": [],
   "source": [
    "from tensorflow.keras.preprocessing.image import ImageDataGenerator"
   ]
  },
  {
   "cell_type": "code",
   "execution_count": 3,
   "metadata": {},
   "outputs": [],
   "source": [
    "img_gen = ImageDataGenerator(rescale=1./255, rotation_range=10)"
   ]
  },
  {
   "cell_type": "code",
   "execution_count": 4,
   "metadata": {},
   "outputs": [
    {
     "name": "stdout",
     "output_type": "stream",
     "text": [
      "Found 3369 images belonging to 3 classes.\n"
     ]
    }
   ],
   "source": [
    "i, l = next(img_gen.flow_from_directory(\"data/grayscale_images/\"))"
   ]
  },
  {
   "cell_type": "code",
   "execution_count": 5,
   "metadata": {},
   "outputs": [
    {
     "data": {
      "text/plain": [
       "(numpy.ndarray, (32, 256, 256, 3))"
      ]
     },
     "execution_count": 5,
     "metadata": {},
     "output_type": "execute_result"
    }
   ],
   "source": [
    "type(i), i.shape"
   ]
  },
  {
   "cell_type": "code",
   "execution_count": 6,
   "metadata": {},
   "outputs": [
    {
     "data": {
      "text/plain": [
       "(numpy.ndarray, (32, 3), array([[0., 1., 0.],\n",
       "        [1., 0., 0.],\n",
       "        [0., 0., 1.],\n",
       "        [0., 1., 0.],\n",
       "        [0., 0., 1.],\n",
       "        [1., 0., 0.],\n",
       "        [0., 0., 1.],\n",
       "        [1., 0., 0.],\n",
       "        [0., 1., 0.],\n",
       "        [0., 1., 0.],\n",
       "        [0., 0., 1.],\n",
       "        [1., 0., 0.],\n",
       "        [0., 1., 0.],\n",
       "        [0., 1., 0.],\n",
       "        [1., 0., 0.],\n",
       "        [0., 1., 0.],\n",
       "        [0., 0., 1.],\n",
       "        [0., 0., 1.],\n",
       "        [1., 0., 0.],\n",
       "        [0., 1., 0.],\n",
       "        [0., 0., 1.],\n",
       "        [0., 1., 0.],\n",
       "        [0., 1., 0.],\n",
       "        [1., 0., 0.],\n",
       "        [0., 1., 0.],\n",
       "        [1., 0., 0.],\n",
       "        [0., 1., 0.],\n",
       "        [0., 0., 1.],\n",
       "        [1., 0., 0.],\n",
       "        [0., 1., 0.],\n",
       "        [0., 1., 0.],\n",
       "        [0., 0., 1.]], dtype=float32))"
      ]
     },
     "execution_count": 6,
     "metadata": {},
     "output_type": "execute_result"
    }
   ],
   "source": [
    "type(l), l.shape, l"
   ]
  },
  {
   "cell_type": "code",
   "execution_count": 7,
   "metadata": {},
   "outputs": [],
   "source": [
    "import numpy as np\n",
    "import os\n",
    "import PIL\n",
    "from PIL import Image\n",
    "\n",
    "class SketchDataGenerator:\n",
    "    '''SketchDataGenerator yields pairs of sketches with/without ruled lines and image augmentation'''\n",
    "\n",
    "    def __init__(self, \n",
    "                 flip_horizontal=True, \n",
    "                 flip_vertical=True, \n",
    "                 h_shift=0, \n",
    "                 v_shift=0, \n",
    "                 rotate=0, \n",
    "                 dilate=0, \n",
    "                 contrast=0,\n",
    "                 size = (200,200)):\n",
    "        \n",
    "        self.flip_horizontal = flip_horizontal\n",
    "        self.flip_vertical = flip_vertical\n",
    "        self.h_shift = h_shift\n",
    "        self.v_shift = v_shift\n",
    "        self.rotate = rotate\n",
    "        self.dilate = dilate\n",
    "        self.contrast = contrast\n",
    "        self.size = size\n",
    "\n",
    "    def flow_from_directory(self, directory, batch_size=32):\n",
    "        '''Provides an infinite stream of augmented files'''\n",
    "\n",
    "        while True:\n",
    "            filenames = np.random.choice(os.listdir(directory),\n",
    "                                         size=batch_size,\n",
    "                                         replace=False)\n",
    "\n",
    "            input = self._get_inputs(directory,filenames)\n",
    "\n",
    "            yield input\n",
    "            \n",
    "    def _get_inputs(self, directory, filenames):\n",
    "        join = np.vectorize(lambda x:os.path.join(directory, x))\n",
    "        files = join(filenames)\n",
    "        \n",
    "        images = [Image.open(x) for x in files]\n",
    "    \n",
    "        images = [i.convert(mode = 'RGB') for i in images]\n",
    "        images = [i.resize(self.size) for i in images]\n",
    "        \n",
    "        images = self._augment(images)\n",
    "        \n",
    "        lined_images = self._add_lines(images)\n",
    "        unlined_images = np.stack(images)\n",
    "        \n",
    "        return lined_images, unlined_images\n",
    "    \n",
    "    def _augment(self, images):\n",
    "        for transformation in [self._hflip, \n",
    "                               self._vflip, \n",
    "                               self._hshift, \n",
    "                               self._vshift, \n",
    "                               self._rotate, \n",
    "                               self._dilate, \n",
    "                               self._contrast]:\n",
    "            images = [transformation(i) for i in images]\n",
    "            \n",
    "        return images\n",
    "    \n",
    "    def _hflip(self, image):\n",
    "        return image\n",
    "    \n",
    "    def _vflip(self, image):\n",
    "        return image\n",
    "    \n",
    "    def _hshift(self, image):\n",
    "        return image\n",
    "    \n",
    "    def _vshift(self, image):\n",
    "        return image\n",
    "    \n",
    "    def _rotate(self, image):\n",
    "        return image\n",
    "    \n",
    "    def _dilate(self, image):\n",
    "        return image\n",
    "    \n",
    "    def _contrast(self, image):\n",
    "        return image\n",
    "    \n",
    "    def _add_lines(self, images):\n",
    "        return images\n",
    "        "
   ]
  },
  {
   "cell_type": "code",
   "execution_count": 8,
   "metadata": {},
   "outputs": [],
   "source": [
    "sdg = SketchDataGenerator()\n",
    "flow = sdg.flow_from_directory('data/Sketches/Unruled', 4)"
   ]
  },
  {
   "cell_type": "code",
   "execution_count": 9,
   "metadata": {},
   "outputs": [
    {
     "data": {
      "text/plain": [
       "(PIL.Image.Image, numpy.ndarray)"
      ]
     },
     "execution_count": 9,
     "metadata": {},
     "output_type": "execute_result"
    }
   ],
   "source": [
    "lined, unlined = next(flow)\n",
    "type(lined[0]), type(unlined)"
   ]
  },
  {
   "cell_type": "code",
   "execution_count": 10,
   "metadata": {},
   "outputs": [
    {
     "data": {
      "image/png": "[encoded data removed]",
      "text/plain": [
       "<Figure size 432x288 with 2 Axes>"
      ]
     },
     "metadata": {
      "needs_background": "light"
     },
     "output_type": "display_data"
    }
   ],
   "source": [
    "\n",
    "fig, axs = plt.subplots(1,2)\n",
    "axs[0].imshow(lined[0])\n",
    "axs[1].imshow(unlined[0]);"
   ]
  },
  {
   "cell_type": "code",
   "execution_count": null,
   "metadata": {},
   "outputs": [],
   "source": []
  }
 ],
 "metadata": {
  "kernelspec": {
   "display_name": "Python 3",
   "language": "python",
   "name": "python3"
  },
  "language_info": {
   "codemirror_mode": {
    "name": "ipython",
    "version": 3
   },
   "file_extension": ".py",
   "mimetype": "text/x-python",
   "name": "python",
   "nbconvert_exporter": "python",
   "pygments_lexer": "ipython3",
   "version": "3.7.4"
  }
 },
 "nbformat": 4,
 "nbformat_minor": 4
}
