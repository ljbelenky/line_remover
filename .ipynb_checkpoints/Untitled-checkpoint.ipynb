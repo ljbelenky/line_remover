{
 "cells": [
  {
   "cell_type": "code",
   "execution_count": 2,
   "metadata": {},
   "outputs": [],
   "source": [
    "import tensorflow as tf"
   ]
  },
  {
   "cell_type": "code",
   "execution_count": 3,
   "metadata": {},
   "outputs": [],
   "source": [
    "from tensorflow.keras.preprocessing.image import ImageDataGenerator"
   ]
  },
  {
   "cell_type": "code",
   "execution_count": 5,
   "metadata": {},
   "outputs": [],
   "source": [
    "img_gen = ImageDataGenerator(rescale=1./255, rotation_range=10)"
   ]
  },
  {
   "cell_type": "code",
   "execution_count": 16,
   "metadata": {},
   "outputs": [
    {
     "name": "stdout",
     "output_type": "stream",
     "text": [
      "Found 3369 images belonging to 3 classes.\n"
     ]
    }
   ],
   "source": [
    "i, l = next(img_gen.flow_from_directory(\"data/grayscale_images/\"))"
   ]
  },
  {
   "cell_type": "code",
   "execution_count": 19,
   "metadata": {},
   "outputs": [
    {
     "data": {
      "text/plain": [
       "(numpy.ndarray, (32, 256, 256, 3))"
      ]
     },
     "execution_count": 19,
     "metadata": {},
     "output_type": "execute_result"
    }
   ],
   "source": [
    "type(i), i.shape"
   ]
  },
  {
   "cell_type": "code",
   "execution_count": 22,
   "metadata": {},
   "outputs": [
    {
     "data": {
      "text/plain": [
       "(numpy.ndarray,\n",
       " (32, 3),\n",
       " array([[1., 0., 0.],\n",
       "        [1., 0., 0.],\n",
       "        [0., 1., 0.],\n",
       "        [1., 0., 0.],\n",
       "        [0., 1., 0.],\n",
       "        [1., 0., 0.],\n",
       "        [1., 0., 0.],\n",
       "        [0., 0., 1.],\n",
       "        [1., 0., 0.],\n",
       "        [0., 0., 1.],\n",
       "        [0., 0., 1.],\n",
       "        [1., 0., 0.],\n",
       "        [1., 0., 0.],\n",
       "        [1., 0., 0.],\n",
       "        [0., 0., 1.],\n",
       "        [0., 1., 0.],\n",
       "        [1., 0., 0.],\n",
       "        [1., 0., 0.],\n",
       "        [0., 0., 1.],\n",
       "        [0., 0., 1.],\n",
       "        [1., 0., 0.],\n",
       "        [1., 0., 0.],\n",
       "        [1., 0., 0.],\n",
       "        [0., 0., 1.],\n",
       "        [1., 0., 0.],\n",
       "        [0., 0., 1.],\n",
       "        [0., 0., 1.],\n",
       "        [1., 0., 0.],\n",
       "        [0., 0., 1.],\n",
       "        [0., 1., 0.],\n",
       "        [0., 1., 0.],\n",
       "        [0., 1., 0.]], dtype=float32))"
      ]
     },
     "execution_count": 22,
     "metadata": {},
     "output_type": "execute_result"
    }
   ],
   "source": [
    "type(l), l.shape, l"
   ]
  },
  {
   "cell_type": "code",
   "execution_count": 172,
   "metadata": {},
   "outputs": [],
   "source": [
    "import numpy as np\n",
    "import os\n",
    "import PIL\n",
    "from PIL import Image\n",
    "\n",
    "class SketchDataGenerator:\n",
    "    '''SketchDataGenerator yields pairs of sketches with/without ruled lines and image augmentation'''\n",
    "\n",
    "    def __init__(self, flip_horizontal=True, flip_vertical=True, h_shift=0, v_shift=0, rotate=0, dilate=0, contrast=0):\n",
    "        self.flip_horizontal = flip_horizontal\n",
    "        self.flip_vertical = flip_vertical\n",
    "        self.h_shift = h_shift\n",
    "        self.v_shift = v_shift\n",
    "        self.rotate = rotate\n",
    "        self.dilate = dilate\n",
    "        self.contrast = contrast\n",
    "        self.size = size\n",
    "\n",
    "    def flow_from_directory(self, directory, batch_size=32):\n",
    "        '''Provides an infinite stream of augmented files'''\n",
    "\n",
    "        while True:\n",
    "            filenames = np.random.choice(os.listdir(directory),\n",
    "                                         size=batch_size,\n",
    "                                         replace=False)\n",
    "\n",
    "            input = self._get_inputs(directory,filenames)\n",
    "\n",
    "            yield input\n",
    "            \n",
    "    def _get_inputs(self, directory, filenames):\n",
    "        join = np.vectorize(lambda x:os.path.join(directory, x))\n",
    "        files = join(filenames)\n",
    "        \n",
    "        images = [Image.open(x) for x in files]\n",
    "    \n",
    "        images = [i.convert(mode = 'RGB') for i in images]\n",
    "        images = [i.resize((100,100)) for i in images]\n",
    "        targets = np.stack(images)\n",
    "        \n",
    "        \n",
    "        \n",
    "        return images, targets\n",
    "        "
   ]
  },
  {
   "cell_type": "code",
   "execution_count": 173,
   "metadata": {},
   "outputs": [],
   "source": [
    "sdg = SketchDataGenerator()\n",
    "flow = sdg.flow_from_directory('data/Sketches/Unruled', 4)"
   ]
  },
  {
   "cell_type": "code",
   "execution_count": 175,
   "metadata": {},
   "outputs": [
    {
     "data": {
      "text/plain": [
       "([<PIL.Image.Image image mode=RGB size=100x100 at 0x7FE8D846E2D0>,\n",
       "  <PIL.Image.Image image mode=RGB size=100x100 at 0x7FE8D8410D10>,\n",
       "  <PIL.Image.Image image mode=RGB size=100x100 at 0x7FE93C693F90>,\n",
       "  <PIL.Image.Image image mode=RGB size=100x100 at 0x7FE8D81F4050>],\n",
       " array([[[[248, 248, 248],\n",
       "          [249, 249, 249],\n",
       "          [249, 249, 249],\n",
       "          ...,\n",
       "          [248, 248, 248],\n",
       "          [248, 248, 248],\n",
       "          [248, 248, 248]],\n",
       " \n",
       "         [[249, 249, 249],\n",
       "          [249, 249, 249],\n",
       "          [249, 249, 249],\n",
       "          ...,\n",
       "          [248, 248, 248],\n",
       "          [248, 248, 248],\n",
       "          [248, 248, 248]],\n",
       " \n",
       "         [[248, 248, 248],\n",
       "          [249, 249, 249],\n",
       "          [248, 248, 248],\n",
       "          ...,\n",
       "          [248, 248, 248],\n",
       "          [248, 248, 248],\n",
       "          [248, 248, 248]],\n",
       " \n",
       "         ...,\n",
       " \n",
       "         [[248, 248, 248],\n",
       "          [248, 248, 248],\n",
       "          [248, 248, 248],\n",
       "          ...,\n",
       "          [247, 247, 247],\n",
       "          [247, 247, 247],\n",
       "          [247, 247, 247]],\n",
       " \n",
       "         [[249, 249, 249],\n",
       "          [249, 249, 249],\n",
       "          [249, 249, 249],\n",
       "          ...,\n",
       "          [248, 248, 248],\n",
       "          [248, 248, 248],\n",
       "          [248, 248, 248]],\n",
       " \n",
       "         [[249, 249, 249],\n",
       "          [249, 249, 249],\n",
       "          [249, 249, 249],\n",
       "          ...,\n",
       "          [248, 248, 248],\n",
       "          [248, 248, 248],\n",
       "          [248, 248, 248]]],\n",
       " \n",
       " \n",
       "        [[[219, 219, 219],\n",
       "          [241, 241, 241],\n",
       "          [245, 245, 245],\n",
       "          ...,\n",
       "          [252, 252, 252],\n",
       "          [252, 252, 252],\n",
       "          [252, 252, 252]],\n",
       " \n",
       "         [[242, 242, 242],\n",
       "          [241, 241, 241],\n",
       "          [240, 240, 240],\n",
       "          ...,\n",
       "          [234, 234, 234],\n",
       "          [237, 237, 237],\n",
       "          [248, 248, 248]],\n",
       " \n",
       "         [[233, 233, 233],\n",
       "          [232, 232, 232],\n",
       "          [231, 231, 231],\n",
       "          ...,\n",
       "          [227, 227, 227],\n",
       "          [228, 228, 228],\n",
       "          [246, 246, 246]],\n",
       " \n",
       "         ...,\n",
       " \n",
       "         [[250, 250, 250],\n",
       "          [252, 252, 252],\n",
       "          [252, 252, 252],\n",
       "          ...,\n",
       "          [248, 248, 248],\n",
       "          [250, 250, 250],\n",
       "          [254, 254, 254]],\n",
       " \n",
       "         [[251, 251, 251],\n",
       "          [252, 252, 252],\n",
       "          [252, 252, 252],\n",
       "          ...,\n",
       "          [247, 247, 247],\n",
       "          [249, 249, 249],\n",
       "          [254, 254, 254]],\n",
       " \n",
       "         [[247, 247, 247],\n",
       "          [250, 250, 250],\n",
       "          [250, 250, 250],\n",
       "          ...,\n",
       "          [252, 252, 252],\n",
       "          [252, 252, 252],\n",
       "          [254, 254, 254]]],\n",
       " \n",
       " \n",
       "        [[[253, 253, 253],\n",
       "          [252, 252, 252],\n",
       "          [252, 252, 252],\n",
       "          ...,\n",
       "          [250, 250, 250],\n",
       "          [251, 251, 251],\n",
       "          [251, 251, 251]],\n",
       " \n",
       "         [[252, 252, 252],\n",
       "          [252, 252, 252],\n",
       "          [251, 251, 251],\n",
       "          ...,\n",
       "          [250, 250, 250],\n",
       "          [249, 249, 249],\n",
       "          [251, 251, 251]],\n",
       " \n",
       "         [[251, 251, 251],\n",
       "          [252, 252, 252],\n",
       "          [251, 251, 251],\n",
       "          ...,\n",
       "          [251, 251, 251],\n",
       "          [250, 250, 250],\n",
       "          [251, 251, 251]],\n",
       " \n",
       "         ...,\n",
       " \n",
       "         [[252, 252, 252],\n",
       "          [252, 252, 252],\n",
       "          [252, 252, 252],\n",
       "          ...,\n",
       "          [251, 251, 251],\n",
       "          [249, 249, 249],\n",
       "          [251, 251, 251]],\n",
       " \n",
       "         [[253, 253, 253],\n",
       "          [252, 252, 252],\n",
       "          [252, 252, 252],\n",
       "          ...,\n",
       "          [249, 249, 249],\n",
       "          [248, 248, 248],\n",
       "          [251, 251, 251]],\n",
       " \n",
       "         [[253, 253, 253],\n",
       "          [253, 253, 253],\n",
       "          [252, 252, 252],\n",
       "          ...,\n",
       "          [250, 250, 250],\n",
       "          [250, 250, 250],\n",
       "          [251, 251, 251]]],\n",
       " \n",
       " \n",
       "        [[[203, 203, 203],\n",
       "          [210, 210, 210],\n",
       "          [213, 213, 213],\n",
       "          ...,\n",
       "          [238, 238, 238],\n",
       "          [238, 238, 238],\n",
       "          [247, 247, 247]],\n",
       " \n",
       "         [[208, 208, 208],\n",
       "          [212, 212, 212],\n",
       "          [212, 212, 212],\n",
       "          ...,\n",
       "          [239, 239, 239],\n",
       "          [240, 240, 240],\n",
       "          [249, 249, 249]],\n",
       " \n",
       "         [[208, 208, 208],\n",
       "          [211, 211, 211],\n",
       "          [210, 210, 210],\n",
       "          ...,\n",
       "          [241, 241, 241],\n",
       "          [241, 241, 241],\n",
       "          [250, 250, 250]],\n",
       " \n",
       "         ...,\n",
       " \n",
       "         [[228, 228, 228],\n",
       "          [234, 234, 234],\n",
       "          [235, 235, 235],\n",
       "          ...,\n",
       "          [240, 240, 240],\n",
       "          [244, 244, 244],\n",
       "          [254, 254, 254]],\n",
       " \n",
       "         [[222, 222, 222],\n",
       "          [235, 235, 235],\n",
       "          [236, 236, 236],\n",
       "          ...,\n",
       "          [237, 237, 237],\n",
       "          [242, 242, 242],\n",
       "          [254, 254, 254]],\n",
       " \n",
       "         [[234, 234, 234],\n",
       "          [255, 255, 255],\n",
       "          [254, 254, 254],\n",
       "          ...,\n",
       "          [236, 236, 236],\n",
       "          [238, 238, 238],\n",
       "          [254, 254, 254]]]], dtype=uint8))"
      ]
     },
     "execution_count": 175,
     "metadata": {},
     "output_type": "execute_result"
    }
   ],
   "source": [
    "next(flow)"
   ]
  },
  {
   "cell_type": "code",
   "execution_count": null,
   "metadata": {},
   "outputs": [],
   "source": [
    "import matplotlib.pyplot as plt\n",
    "plt.imshow(next(flow)[0])"
   ]
  },
  {
   "cell_type": "code",
   "execution_count": 166,
   "metadata": {},
   "outputs": [],
   "source": [
    "import PIL"
   ]
  },
  {
   "cell_type": "code",
   "execution_count": 115,
   "metadata": {},
   "outputs": [
    {
     "data": {
      "text/plain": [
       "'7.0.0'"
      ]
     },
     "execution_count": 115,
     "metadata": {},
     "output_type": "execute_result"
    }
   ],
   "source": [
    "PIL.__version__"
   ]
  },
  {
   "cell_type": "code",
   "execution_count": null,
   "metadata": {},
   "outputs": [],
   "source": []
  }
 ],
 "metadata": {
  "kernelspec": {
   "display_name": "Python 3",
   "language": "python",
   "name": "python3"
  },
  "language_info": {
   "codemirror_mode": {
    "name": "ipython",
    "version": 3
   },
   "file_extension": ".py",
   "mimetype": "text/x-python",
   "name": "python",
   "nbconvert_exporter": "python",
   "pygments_lexer": "ipython3",
   "version": "3.7.6"
  }
 },
 "nbformat": 4,
 "nbformat_minor": 4
}
